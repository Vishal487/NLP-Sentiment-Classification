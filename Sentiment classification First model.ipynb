{
 "cells": [
  {
   "cell_type": "code",
   "execution_count": 12,
   "metadata": {},
   "outputs": [],
   "source": [
    "import numpy as np"
   ]
  },
  {
   "cell_type": "code",
   "execution_count": null,
   "metadata": {},
   "outputs": [],
   "source": []
  },
  {
   "cell_type": "markdown",
   "metadata": {},
   "source": [
    "### Tokenization\n",
    "* Tokenization is a process that splits an input sequence in so-called tokens\n",
    "* Can be a word, sentence, paragraph, etc.\n",
    "\n",
    "**An example**\n",
    "* nltk.tokenize.WhitespaceTokenizer\n",
    "    * `This` `is` `Vishal's` `text,` `isn't` `it?`\n",
    "    * Problem: \"it\" and \"it?\" are different tokens with same meaning\n",
    "* split by **Punctutation** : nltk.tokenize.WordPunctTokenizer\n",
    "    * `This` `is` `Vishal` `'` `s` `text` `,` `isn` `'` `t` `it` `?`\n",
    "    * Problem: \"s\", \"isn\", \"t\" are not very meanngful\n",
    "* nltk.tokenize.TreebankWordTokenizer\n",
    "    * `This` `is` `Vishal` `'s` `text` `,` `is` `n't` `it` `?`\n",
    "    * \"'s\" and \"n't\" are more meaningful"
   ]
  },
  {
   "cell_type": "code",
   "execution_count": 1,
   "metadata": {},
   "outputs": [],
   "source": [
    "import nltk\n",
    "text = \"This is Vishal's text, isn't it?\""
   ]
  },
  {
   "cell_type": "code",
   "execution_count": 2,
   "metadata": {},
   "outputs": [
    {
     "data": {
      "text/plain": [
       "['This', 'is', \"Vishal's\", 'text,', \"isn't\", 'it?']"
      ]
     },
     "execution_count": 2,
     "metadata": {},
     "output_type": "execute_result"
    }
   ],
   "source": [
    "tokenizer = nltk.tokenize.WhitespaceTokenizer()\n",
    "tokenizer.tokenize(text)"
   ]
  },
  {
   "cell_type": "code",
   "execution_count": 3,
   "metadata": {},
   "outputs": [
    {
     "data": {
      "text/plain": [
       "['This', 'is', 'Vishal', \"'\", 's', 'text', ',', 'isn', \"'\", 't', 'it', '?']"
      ]
     },
     "execution_count": 3,
     "metadata": {},
     "output_type": "execute_result"
    }
   ],
   "source": [
    "tokenizer = nltk.tokenize.WordPunctTokenizer()\n",
    "tokenizer.tokenize(text)"
   ]
  },
  {
   "cell_type": "code",
   "execution_count": 4,
   "metadata": {},
   "outputs": [
    {
     "data": {
      "text/plain": [
       "['This', 'is', 'Vishal', \"'s\", 'text', ',', 'is', \"n't\", 'it', '?']"
      ]
     },
     "execution_count": 4,
     "metadata": {},
     "output_type": "execute_result"
    }
   ],
   "source": [
    "tokenizer = nltk.tokenize.TreebankWordTokenizer()\n",
    "tokenizer.tokenize(text)"
   ]
  },
  {
   "cell_type": "markdown",
   "metadata": {},
   "source": [
    "### Token normalization \n",
    "for example:\n",
    "* wolf, wolves => wolf\n",
    "* talk, talks => talk\n",
    "\n",
    "#### Stemming\n",
    "* Aprocess of removing and replacing suffixes to get to the root of the word, also called **stem**\n",
    "* Usually refers to heuristic that chop off suffixes\n",
    "\n",
    "**Porter's stemmer**   (`nltk.stem.PorterStemer`)\n",
    "\n",
    "`Rule`          \n",
    "    * SSES => SS        \n",
    "    * IES => I\n",
    "    * SS => SS\n",
    "    * S => \n",
    "\n",
    "    `examples`\n",
    "    * caresses => caress\n",
    "    * ponies => poni\n",
    "    * caress => caress\n",
    "    * cats => cat\n",
    "\n",
    "    Problem: fails on irregular forms, poduces non-words\n",
    "\n",
    "#### Lemmatization\n",
    "* Usually refers to doing things properly with the use of a vocabulary and morphological analysis\n",
    "* Returns the base or dictionary form of a word, aka **lemma**\n",
    "\n",
    "**WordNet lemmatizer**  (`nltk.stem.WordNetLemmatizer`)\n",
    "    * uses the `WordNet Databases` to lookup kemmas\n",
    "    * e.g.\n",
    "        * feet => foot\n",
    "        * cats => cat\n",
    "        * wolves => wolf\n",
    "        * talked => talked\n",
    "    * Problems: not all forms are reduced\n",
    "    \n",
    "**Takeaway:** We need to try stemming or lemmatization and choose best for our task"
   ]
  },
  {
   "cell_type": "code",
   "execution_count": 5,
   "metadata": {},
   "outputs": [],
   "source": [
    "text = \"feets cats wolves talked\"\n",
    "tokenizer = nltk.tokenize.TreebankWordTokenizer()\n",
    "tokens = tokenizer.tokenize(text)"
   ]
  },
  {
   "cell_type": "code",
   "execution_count": 6,
   "metadata": {},
   "outputs": [
    {
     "data": {
      "text/plain": [
       "'feet cat wolv talk'"
      ]
     },
     "execution_count": 6,
     "metadata": {},
     "output_type": "execute_result"
    }
   ],
   "source": [
    "stemmer = nltk.stem.PorterStemmer()\n",
    "\" \".join(stemmer.stem(token) for token in tokens)"
   ]
  },
  {
   "cell_type": "code",
   "execution_count": 7,
   "metadata": {},
   "outputs": [],
   "source": [
    "# download wordnet before executing next cell by running following code\n",
    "# nltk.download('wordnet')"
   ]
  },
  {
   "cell_type": "code",
   "execution_count": 8,
   "metadata": {},
   "outputs": [
    {
     "data": {
      "text/plain": [
       "'feets cat wolf talked'"
      ]
     },
     "execution_count": 8,
     "metadata": {},
     "output_type": "execute_result"
    }
   ],
   "source": [
    "stemmer = nltk.stem.WordNetLemmatizer()\n",
    "\" \".join(stemmer.lemmatize(token) for token in tokens)"
   ]
  },
  {
   "cell_type": "markdown",
   "metadata": {},
   "source": [
    "#### Further normalization\n",
    "**Normalizing capital letters**\n",
    "\n",
    "* Us, us => us  (if both are pronoun)\n",
    "* us, US(could be pronoun or country)\n",
    "* We can use heuristic:\n",
    "    * lowering the begining of the sentences\n",
    "    * lowering words in title\n",
    "    * leave mid-sentence wordsa as they are\n",
    "* Or use ML -> HARD!\n",
    "\n",
    "**Acronyms**\n",
    "* eta, e.t.a., E.T.A. => E.T.A.\n",
    "* Or write a bunch of regular expression-> HARD!"
   ]
  },
  {
   "cell_type": "markdown",
   "metadata": {},
   "source": [
    "### Feature extraction from Text (or Transform tokens into features)\n",
    "\n",
    "#### BOW (bag of words)\n",
    "* count occurences of a partcular token in our text\n",
    "* for each token we'll have a feature column, this is called `text vectorization`\n",
    "\n",
    "Problems:\n",
    "* we loose word order, hence the name \"bag words\"\n",
    "* counters are not normalized\n",
    "    \n",
    "**Let's preserve some ordering**\n",
    "* aka **`n-grams`**\n",
    "    * 1-grams for tokens\n",
    "    * 2-grams for token pairs\n",
    "    * ...\n",
    "    \n",
    "Problems: too many features\n",
    "\n",
    "**Remove some n-grams**\n",
    "Let's remove some n-grams from features based on their occurence frequency in documents of our corpus\n",
    "* **High frequency n-grams:**\n",
    "    * Articles, prepositions, etc. (examples: and, a, the)\n",
    "    * They are called **stop-words**, the won't help us to discriminate texts -> `REMOVE THEM`\n",
    "* **Low frequency n-grams:**\n",
    "    * Typos, rare n-grams\n",
    "    * We `don't need` them ether, otherwse we'll likely overfit\n",
    "* **Medium frequency n-grams:**\n",
    "    * Those are good n-grams\n",
    "    \n",
    "**There're lot of medium frequency n-grams**\n",
    "* It is useful to look at n-grams frequency in our corpus for filtering out bad n-grams\n",
    "* What if we use it for ranking of medium frequency n-grams?\n",
    "* **Idea:** the n-gram with smaller frequency can be more discriminating bcz it can capture a specific issue in the review\n",
    "\n",
    "### TF-IDF \n",
    "\n",
    "#### Term Frequency (TF)\n",
    "* `tf(t,d)` -> frequency for term (or n-gram) `t` in `document d`\n",
    "* Variants:\n",
    "\n",
    "| Weighting scheme | TF weight |\n",
    "| --- | --- |\n",
    "| binary | 0,1 |\n",
    "| raw count | $f_{t,d}$ |\n",
    "| term frequency | $f_{t,d}$/$\\sum_{t' \\in d}f_{t,d}$ |\n",
    "| log normalization | 1 + log($f_{t,d}$) |\n",
    "\n",
    "####  Inverse documentary frequency (IDF)\n",
    "* `N = |D|` -> total number of documents in `corpus D`(set of all our documents)\n",
    "* `|{d in D: t in d}|` -> number of documents where the term t appears\n",
    "* `idf(t, D)` = log( N / |{d in D: t in d}|\n",
    "\n",
    "#### TF- IDF\n",
    "* `tfidf(t, d, D)` = tf(t, d) . idf(t, D)\n",
    "* A high weight in TF-IDF is reached by a high term frequency of the term in the whole collection of documents\n",
    "\n",
    "### Better BOW\n",
    "* Replace counters with TF-IDF\n",
    "* Normalize the results row-wise (dvide by L2-norm)\n",
    "\n",
    "The above work will help us to get about some critical reviews (i.e. not often appearing words)"
   ]
  },
  {
   "cell_type": "markdown",
   "metadata": {},
   "source": [
    "refer: https://scikit-learn.org/stable/modules/generated/sklearn.feature_extraction.text.TfidfVectorizer.html"
   ]
  },
  {
   "cell_type": "code",
   "execution_count": 9,
   "metadata": {},
   "outputs": [
    {
     "data": {
      "text/html": [
       "<div>\n",
       "<style scoped>\n",
       "    .dataframe tbody tr th:only-of-type {\n",
       "        vertical-align: middle;\n",
       "    }\n",
       "\n",
       "    .dataframe tbody tr th {\n",
       "        vertical-align: top;\n",
       "    }\n",
       "\n",
       "    .dataframe thead th {\n",
       "        text-align: right;\n",
       "    }\n",
       "</style>\n",
       "<table border=\"1\" class=\"dataframe\">\n",
       "  <thead>\n",
       "    <tr style=\"text-align: right;\">\n",
       "      <th></th>\n",
       "      <th>good movie</th>\n",
       "      <th>like</th>\n",
       "      <th>movie</th>\n",
       "      <th>not</th>\n",
       "    </tr>\n",
       "  </thead>\n",
       "  <tbody>\n",
       "    <tr>\n",
       "      <th>0</th>\n",
       "      <td>0.707107</td>\n",
       "      <td>0.000000</td>\n",
       "      <td>0.707107</td>\n",
       "      <td>0.000000</td>\n",
       "    </tr>\n",
       "    <tr>\n",
       "      <th>1</th>\n",
       "      <td>0.577350</td>\n",
       "      <td>0.000000</td>\n",
       "      <td>0.577350</td>\n",
       "      <td>0.577350</td>\n",
       "    </tr>\n",
       "    <tr>\n",
       "      <th>2</th>\n",
       "      <td>0.000000</td>\n",
       "      <td>0.707107</td>\n",
       "      <td>0.000000</td>\n",
       "      <td>0.707107</td>\n",
       "    </tr>\n",
       "    <tr>\n",
       "      <th>3</th>\n",
       "      <td>0.000000</td>\n",
       "      <td>1.000000</td>\n",
       "      <td>0.000000</td>\n",
       "      <td>0.000000</td>\n",
       "    </tr>\n",
       "    <tr>\n",
       "      <th>4</th>\n",
       "      <td>0.000000</td>\n",
       "      <td>0.000000</td>\n",
       "      <td>0.000000</td>\n",
       "      <td>0.000000</td>\n",
       "    </tr>\n",
       "  </tbody>\n",
       "</table>\n",
       "</div>"
      ],
      "text/plain": [
       "   good movie      like     movie       not\n",
       "0    0.707107  0.000000  0.707107  0.000000\n",
       "1    0.577350  0.000000  0.577350  0.577350\n",
       "2    0.000000  0.707107  0.000000  0.707107\n",
       "3    0.000000  1.000000  0.000000  0.000000\n",
       "4    0.000000  0.000000  0.000000  0.000000"
      ]
     },
     "execution_count": 9,
     "metadata": {},
     "output_type": "execute_result"
    }
   ],
   "source": [
    "from sklearn.feature_extraction.text import TfidfVectorizer\n",
    "import pandas as pd\n",
    "texts = [\n",
    "    \"good movie\", \"not a good movie\", \"did not like\",\n",
    "    \"i like it\", \"good one\"\n",
    "]\n",
    "tfidf = TfidfVectorizer(min_df=2, max_df=0.5, ngram_range=(1, 2))\n",
    "features = tfidf.fit_transform(texts)\n",
    "pd.DataFrame(features.todense(),  # Return a dense matrix representation of this matrix.\n",
    "             columns=tfidf.get_feature_names()   # it returns a list of feature names\n",
    "            )"
   ]
  },
  {
   "cell_type": "markdown",
   "metadata": {},
   "source": [
    "### Linear model for sentment analysis\n",
    "#### First text classification model\n",
    "**IMDB movie reviews dataset**\n",
    "* http://ai.stanford.edu/~amaas/data/sentiment/\n",
    "* Contains 25000 +ve and 25000 -ve reviews\n",
    "* Contains at most 30 revews per movie\n",
    "* 50/50 train-test split\n",
    "* Evaluation: accuracy\n",
    "\n",
    "* `question`\n",
    "    * Let's consider a bag-of-words representation for text. Which models are better suited for such sparse features?\n",
    "\n",
    "    * Gradient Boosted Trees\n",
    "    * Decision Tree\n",
    "    * Naive Bayes\n",
    "        * Correct \n",
    "        * This is fine and fast and works for millions of features.\n",
    "    * Linear model\n",
    "        * Correct \n",
    "        * This is fine and fast and works for millions of features.\n",
    "        \n",
    "**Model: Logistic regression**\n",
    "* p(y=1|x) = $\\sigma(w^T.x)$\n",
    "* `Linear` classifcaton model\n",
    "* can handle `sparse data`\n",
    "* `Fast` to train\n",
    "* Weghts can be `interpreted`"
   ]
  },
  {
   "cell_type": "markdown",
   "metadata": {},
   "source": [
    "Below code is taken from \n",
    "* https://itnext.io/machine-learning-sentiment-analysis-of-movie-reviews-using-logisticregression-62e9622b4532"
   ]
  },
  {
   "cell_type": "markdown",
   "metadata": {},
   "source": [
    "**Load data into program**"
   ]
  },
  {
   "cell_type": "code",
   "execution_count": 13,
   "metadata": {},
   "outputs": [
    {
     "name": "stdout",
     "output_type": "stream",
     "text": [
      " no. of documents in train data: 25000\n",
      "samples per class (train): [12500 12500]\n",
      "no. of documents in test data: 25000\n",
      "samples per class (test): [12500 12500]\n"
     ]
    }
   ],
   "source": [
    "from sklearn.datasets import load_files\n",
    "\n",
    "reviews_train = load_files(\"aclImdb_v1.tar/aclImdb/train/\")\n",
    "text_train, y_train = reviews_train.data, reviews_train.target\n",
    "\n",
    "print(' no. of documents in train data: {}'.format(len(text_train)))\n",
    "print('samples per class (train): {}'.format(np.bincount(y_train)))\n",
    "\n",
    "reviews_test = load_files(\"aclImdb_v1.tar/aclImdb/test/\")\n",
    "text_test, y_test = reviews_test.data, reviews_test.target\n",
    "\n",
    "print('no. of documents in test data: {}'.format(len(text_test)))\n",
    "print('samples per class (test): {}'.format(np.bincount(y_test)))"
   ]
  },
  {
   "cell_type": "code",
   "execution_count": 20,
   "metadata": {},
   "outputs": [
    {
     "data": {
      "text/plain": [
       "b\"Zero Day leads you to think, even re-think why two boys/young men would do what they did - commit mutual suicide via slaughtering their classmates. It captures what must be beyond a bizarre mode of being for two humans who have decided to withdraw from common civility in order to define their own/mutual world via coupled destruction.<br /><br />It is not a perfect movie but given what money/time the filmmaker and actors had - it is a remarkable product. In terms of explaining the motives and actions of the two young suicide/murderers it is better than 'Elephant' - in terms of being a film that gets under our 'rationalistic' skin it is a far, far better film than almost anything you are likely to see. <br /><br />Flawed but honest with a terrible honesty.\""
      ]
     },
     "execution_count": 20,
     "metadata": {},
     "output_type": "execute_result"
    }
   ],
   "source": [
    "text_train[0]"
   ]
  },
  {
   "cell_type": "code",
   "execution_count": 21,
   "metadata": {},
   "outputs": [
    {
     "data": {
      "text/plain": [
       "1"
      ]
     },
     "execution_count": 21,
     "metadata": {},
     "output_type": "execute_result"
    }
   ],
   "source": [
    "y_train[0]"
   ]
  },
  {
   "cell_type": "markdown",
   "metadata": {},
   "source": [
    "**Representing text data as Bag of Words**\n",
    "\n",
    "In order to represent the input dataset as Bag of words, we will use `CountVectorizer` and call it’s `transform` method. `CountVectorizer` is a transformer that converts the input documents into `sparse matrix` of features."
   ]
  },
  {
   "cell_type": "code",
   "execution_count": 22,
   "metadata": {},
   "outputs": [
    {
     "name": "stdout",
     "output_type": "stream",
     "text": [
      "vocabulary size: 129549\n",
      "X_train:\n",
      "<25000x129549 sparse matrix of type '<class 'numpy.int64'>'\n",
      "\twith 3607330 stored elements in Compressed Sparse Row format>\n",
      "X_test: \n",
      "<25000x129549 sparse matrix of type '<class 'numpy.int64'>'\n",
      "\twith 3392376 stored elements in Compressed Sparse Row format>\n",
      "no. of features: 129549\n"
     ]
    }
   ],
   "source": [
    "from sklearn.feature_extraction.text import CountVectorizer\n",
    "\n",
    "vect = CountVectorizer(min_df=5, ngram_range=(2,2))\n",
    "X_train = vect.fit(text_train).transform(text_train)\n",
    "X_test = vect.transform(text_test)\n",
    "\n",
    "print(\"vocabulary size: {}\".format(len(vect.vocabulary_)))\n",
    "print(\"X_train:\\n{}\".format(repr(X_train)))\n",
    "print(\"X_test: \\n{}\".format(repr(X_test)))\n",
    "\n",
    "feature_names = vect.get_feature_names()\n",
    "print(\"no. of features: {}\".format(len(feature_names)))"
   ]
  },
  {
   "cell_type": "code",
   "execution_count": 28,
   "metadata": {},
   "outputs": [
    {
     "data": {
      "text/plain": [
       "['00 and',\n",
       " '00 in',\n",
       " '000 00',\n",
       " '000 000',\n",
       " '000 and',\n",
       " '000 budget',\n",
       " '000 feet',\n",
       " '000 for',\n",
       " '000 in',\n",
       " '000 people']"
      ]
     },
     "execution_count": 28,
     "metadata": {},
     "output_type": "execute_result"
    }
   ],
   "source": [
    "feature_names[:10]"
   ]
  },
  {
   "cell_type": "markdown",
   "metadata": {},
   "source": [
    "* `vect.fit()`  ==>> Learn a vocabulary dictionary of all tokens in the raw documents.\n",
    "* `vect.transform()`  ==>>  Transform documents to document-term matrix."
   ]
  },
  {
   "cell_type": "markdown",
   "metadata": {},
   "source": [
    "**Model Development**\n",
    "\n",
    "We will use `LogisticRegression` for model development as for high dimensional sparse data like ours, LogisticRegression often works best.\n",
    "\n",
    "While developing model, we need to do two other things —\n",
    "* `Grid Search`: for paramater tuning of LogisticRegression. We want to determine what value of coefficeint ‘C’ provides better accuracy.\n",
    "* `Cross validation`: in order to avoid overfitting of data."
   ]
  },
  {
   "cell_type": "code",
   "execution_count": 29,
   "metadata": {},
   "outputs": [
    {
     "name": "stderr",
     "output_type": "stream",
     "text": [
      "C:\\Users\\Vishal Rao\\Anaconda3\\lib\\site-packages\\sklearn\\linear_model\\_logistic.py:939: ConvergenceWarning: lbfgs failed to converge (status=1):\n",
      "STOP: TOTAL NO. of ITERATIONS REACHED LIMIT.\n",
      "\n",
      "Increase the number of iterations (max_iter) or scale the data as shown in:\n",
      "    https://scikit-learn.org/stable/modules/preprocessing.html.\n",
      "Please also refer to the documentation for alternative solver options:\n",
      "    https://scikit-learn.org/stable/modules/linear_model.html#logistic-regression\n",
      "  extra_warning_msg=_LOGISTIC_SOLVER_CONVERGENCE_MSG)\n",
      "C:\\Users\\Vishal Rao\\Anaconda3\\lib\\site-packages\\sklearn\\linear_model\\_logistic.py:939: ConvergenceWarning: lbfgs failed to converge (status=1):\n",
      "STOP: TOTAL NO. of ITERATIONS REACHED LIMIT.\n",
      "\n",
      "Increase the number of iterations (max_iter) or scale the data as shown in:\n",
      "    https://scikit-learn.org/stable/modules/preprocessing.html.\n",
      "Please also refer to the documentation for alternative solver options:\n",
      "    https://scikit-learn.org/stable/modules/linear_model.html#logistic-regression\n",
      "  extra_warning_msg=_LOGISTIC_SOLVER_CONVERGENCE_MSG)\n",
      "C:\\Users\\Vishal Rao\\Anaconda3\\lib\\site-packages\\sklearn\\linear_model\\_logistic.py:939: ConvergenceWarning: lbfgs failed to converge (status=1):\n",
      "STOP: TOTAL NO. of ITERATIONS REACHED LIMIT.\n",
      "\n",
      "Increase the number of iterations (max_iter) or scale the data as shown in:\n",
      "    https://scikit-learn.org/stable/modules/preprocessing.html.\n",
      "Please also refer to the documentation for alternative solver options:\n",
      "    https://scikit-learn.org/stable/modules/linear_model.html#logistic-regression\n",
      "  extra_warning_msg=_LOGISTIC_SOLVER_CONVERGENCE_MSG)\n",
      "C:\\Users\\Vishal Rao\\Anaconda3\\lib\\site-packages\\sklearn\\linear_model\\_logistic.py:939: ConvergenceWarning: lbfgs failed to converge (status=1):\n",
      "STOP: TOTAL NO. of ITERATIONS REACHED LIMIT.\n",
      "\n",
      "Increase the number of iterations (max_iter) or scale the data as shown in:\n",
      "    https://scikit-learn.org/stable/modules/preprocessing.html.\n",
      "Please also refer to the documentation for alternative solver options:\n",
      "    https://scikit-learn.org/stable/modules/linear_model.html#logistic-regression\n",
      "  extra_warning_msg=_LOGISTIC_SOLVER_CONVERGENCE_MSG)\n",
      "C:\\Users\\Vishal Rao\\Anaconda3\\lib\\site-packages\\sklearn\\linear_model\\_logistic.py:939: ConvergenceWarning: lbfgs failed to converge (status=1):\n",
      "STOP: TOTAL NO. of ITERATIONS REACHED LIMIT.\n",
      "\n",
      "Increase the number of iterations (max_iter) or scale the data as shown in:\n",
      "    https://scikit-learn.org/stable/modules/preprocessing.html.\n",
      "Please also refer to the documentation for alternative solver options:\n",
      "    https://scikit-learn.org/stable/modules/linear_model.html#logistic-regression\n",
      "  extra_warning_msg=_LOGISTIC_SOLVER_CONVERGENCE_MSG)\n",
      "C:\\Users\\Vishal Rao\\Anaconda3\\lib\\site-packages\\sklearn\\linear_model\\_logistic.py:939: ConvergenceWarning: lbfgs failed to converge (status=1):\n",
      "STOP: TOTAL NO. of ITERATIONS REACHED LIMIT.\n",
      "\n",
      "Increase the number of iterations (max_iter) or scale the data as shown in:\n",
      "    https://scikit-learn.org/stable/modules/preprocessing.html.\n",
      "Please also refer to the documentation for alternative solver options:\n",
      "    https://scikit-learn.org/stable/modules/linear_model.html#logistic-regression\n",
      "  extra_warning_msg=_LOGISTIC_SOLVER_CONVERGENCE_MSG)\n",
      "C:\\Users\\Vishal Rao\\Anaconda3\\lib\\site-packages\\sklearn\\linear_model\\_logistic.py:939: ConvergenceWarning: lbfgs failed to converge (status=1):\n",
      "STOP: TOTAL NO. of ITERATIONS REACHED LIMIT.\n",
      "\n",
      "Increase the number of iterations (max_iter) or scale the data as shown in:\n",
      "    https://scikit-learn.org/stable/modules/preprocessing.html.\n",
      "Please also refer to the documentation for alternative solver options:\n",
      "    https://scikit-learn.org/stable/modules/linear_model.html#logistic-regression\n",
      "  extra_warning_msg=_LOGISTIC_SOLVER_CONVERGENCE_MSG)\n",
      "C:\\Users\\Vishal Rao\\Anaconda3\\lib\\site-packages\\sklearn\\linear_model\\_logistic.py:939: ConvergenceWarning: lbfgs failed to converge (status=1):\n",
      "STOP: TOTAL NO. of ITERATIONS REACHED LIMIT.\n",
      "\n",
      "Increase the number of iterations (max_iter) or scale the data as shown in:\n",
      "    https://scikit-learn.org/stable/modules/preprocessing.html.\n",
      "Please also refer to the documentation for alternative solver options:\n",
      "    https://scikit-learn.org/stable/modules/linear_model.html#logistic-regression\n",
      "  extra_warning_msg=_LOGISTIC_SOLVER_CONVERGENCE_MSG)\n",
      "C:\\Users\\Vishal Rao\\Anaconda3\\lib\\site-packages\\sklearn\\linear_model\\_logistic.py:939: ConvergenceWarning: lbfgs failed to converge (status=1):\n",
      "STOP: TOTAL NO. of ITERATIONS REACHED LIMIT.\n",
      "\n",
      "Increase the number of iterations (max_iter) or scale the data as shown in:\n",
      "    https://scikit-learn.org/stable/modules/preprocessing.html.\n",
      "Please also refer to the documentation for alternative solver options:\n",
      "    https://scikit-learn.org/stable/modules/linear_model.html#logistic-regression\n",
      "  extra_warning_msg=_LOGISTIC_SOLVER_CONVERGENCE_MSG)\n",
      "C:\\Users\\Vishal Rao\\Anaconda3\\lib\\site-packages\\sklearn\\linear_model\\_logistic.py:939: ConvergenceWarning: lbfgs failed to converge (status=1):\n",
      "STOP: TOTAL NO. of ITERATIONS REACHED LIMIT.\n",
      "\n",
      "Increase the number of iterations (max_iter) or scale the data as shown in:\n",
      "    https://scikit-learn.org/stable/modules/preprocessing.html.\n",
      "Please also refer to the documentation for alternative solver options:\n",
      "    https://scikit-learn.org/stable/modules/linear_model.html#logistic-regression\n",
      "  extra_warning_msg=_LOGISTIC_SOLVER_CONVERGENCE_MSG)\n"
     ]
    },
    {
     "name": "stdout",
     "output_type": "stream",
     "text": [
      "best cross-validation score: 0.88\n",
      "best parameters:  {'C': 1}\n",
      "best estimator:  LogisticRegression(C=1, class_weight=None, dual=False, fit_intercept=True,\n",
      "                   intercept_scaling=1, l1_ratio=None, max_iter=100,\n",
      "                   multi_class='auto', n_jobs=None, penalty='l2',\n",
      "                   random_state=None, solver='lbfgs', tol=0.0001, verbose=0,\n",
      "                   warm_start=False)\n"
     ]
    },
    {
     "name": "stderr",
     "output_type": "stream",
     "text": [
      "C:\\Users\\Vishal Rao\\Anaconda3\\lib\\site-packages\\sklearn\\linear_model\\_logistic.py:939: ConvergenceWarning: lbfgs failed to converge (status=1):\n",
      "STOP: TOTAL NO. of ITERATIONS REACHED LIMIT.\n",
      "\n",
      "Increase the number of iterations (max_iter) or scale the data as shown in:\n",
      "    https://scikit-learn.org/stable/modules/preprocessing.html.\n",
      "Please also refer to the documentation for alternative solver options:\n",
      "    https://scikit-learn.org/stable/modules/linear_model.html#logistic-regression\n",
      "  extra_warning_msg=_LOGISTIC_SOLVER_CONVERGENCE_MSG)\n"
     ]
    }
   ],
   "source": [
    "from sklearn.model_selection import GridSearchCV\n",
    "from sklearn.linear_model import LogisticRegression\n",
    "\n",
    "lr_grid = {'C': [0.001, 0.01, 1, 10]}\n",
    "gs_model = GridSearchCV(estimator= LogisticRegression(),\n",
    "                        param_grid= lr_grid,\n",
    "                       cv=5)\n",
    "\n",
    "gs_model.fit(X_train, y_train)\n",
    "\n",
    "print(\"best cross-validation score: {:.2f}\".format(gs_model.best_score_))\n",
    "print(\"best parameters: \",gs_model.best_params_)\n",
    "print(\"best estimator: \",gs_model.best_estimator_)"
   ]
  },
  {
   "cell_type": "code",
   "execution_count": 30,
   "metadata": {},
   "outputs": [
    {
     "name": "stdout",
     "output_type": "stream",
     "text": [
      "best cross-validation score: 0.88\n",
      "best parameters:  {'C': 1}\n",
      "best estimator:  LogisticRegression(C=1, class_weight=None, dual=False, fit_intercept=True,\n",
      "                   intercept_scaling=1, l1_ratio=None, max_iter=100,\n",
      "                   multi_class='auto', n_jobs=None, penalty='l2',\n",
      "                   random_state=None, solver='lbfgs', tol=0.0001, verbose=0,\n",
      "                   warm_start=False)\n"
     ]
    }
   ],
   "source": [
    "print(\"best cross-validation score: {:.2f}\".format(gs_model.best_score_))\n",
    "print(\"best parameters: \",gs_model.best_params_)\n",
    "print(\"best estimator: \",gs_model.best_estimator_)"
   ]
  },
  {
   "cell_type": "markdown",
   "metadata": {},
   "source": [
    "We want to plot the best and worst top 25 features.\n",
    "\n",
    "**||||||||||||||||||||||||||||||||||||||||**"
   ]
  },
  {
   "cell_type": "code",
   "execution_count": 38,
   "metadata": {},
   "outputs": [
    {
     "data": {
      "image/png": "[encoded data removed]",
      "text/plain": [
       "<Figure size 1080x360 with 1 Axes>"
      ]
     },
     "metadata": {
      "needs_background": "light"
     },
     "output_type": "display_data"
    }
   ],
   "source": [
    "import matplotlib.pyplot as plt\n",
    "import mglearn\n",
    "\n",
    "mglearn.tools.visualize_coefficients(gs_model.best_estimator_.coef_,\n",
    "                                    feature_names,\n",
    "                                    n_top_features=25)  # it will take largest 25 (top +ve) and smallest 25 (top -ve)      \n",
    "plt.show()"
   ]
  },
  {
   "cell_type": "code",
   "execution_count": null,
   "metadata": {},
   "outputs": [],
   "source": []
  },
  {
   "cell_type": "code",
   "execution_count": null,
   "metadata": {},
   "outputs": [],
   "source": []
  },
  {
   "cell_type": "markdown",
   "metadata": {},
   "source": [
    "**Making prediction**"
   ]
  },
  {
   "cell_type": "code",
   "execution_count": 35,
   "metadata": {
    "scrolled": true
   },
   "outputs": [
    {
     "name": "stdout",
     "output_type": "stream",
     "text": [
      "score: 0.88\n"
     ]
    },
    {
     "name": "stderr",
     "output_type": "stream",
     "text": [
      "C:\\Users\\Vishal Rao\\Anaconda3\\lib\\site-packages\\sklearn\\linear_model\\_logistic.py:939: ConvergenceWarning: lbfgs failed to converge (status=1):\n",
      "STOP: TOTAL NO. of ITERATIONS REACHED LIMIT.\n",
      "\n",
      "Increase the number of iterations (max_iter) or scale the data as shown in:\n",
      "    https://scikit-learn.org/stable/modules/preprocessing.html.\n",
      "Please also refer to the documentation for alternative solver options:\n",
      "    https://scikit-learn.org/stable/modules/linear_model.html#logistic-regression\n",
      "  extra_warning_msg=_LOGISTIC_SOLVER_CONVERGENCE_MSG)\n"
     ]
    }
   ],
   "source": [
    "lr = gs_model.best_estimator_\n",
    "lr.fit(X_train, y_train)\n",
    "lr.predict(X_test)\n",
    "print('score: {:.2f}'.format(lr.score(X_test, y_test)))"
   ]
  },
  {
   "cell_type": "markdown",
   "metadata": {},
   "source": [
    "THANK YOU!!!"
   ]
  },
  {
   "cell_type": "code",
   "execution_count": null,
   "metadata": {},
   "outputs": [],
   "source": []
  }
 ],
 "metadata": {
  "kernelspec": {
   "display_name": "Python 3",
   "language": "python",
   "name": "python3"
  },
  "language_info": {
   "codemirror_mode": {
    "name": "ipython",
    "version": 3
   },
   "file_extension": ".py",
   "mimetype": "text/x-python",
   "name": "python",
   "nbconvert_exporter": "python",
   "pygments_lexer": "ipython3",
   "version": "3.7.3"
  }
 },
 "nbformat": 4,
 "nbformat_minor": 2
}
